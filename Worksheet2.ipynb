{
 "cells": [
  {
   "cell_type": "code",
   "execution_count": 34,
   "id": "f59712f8",
   "metadata": {},
   "outputs": [
    {
     "name": "stdout",
     "output_type": "stream",
     "text": [
      "d: [-20 -15 -10  -5   0   5  10  15  20  25]\n"
     ]
    }
   ],
   "source": [
    "import numpy as np \n",
    "\n",
    "#Using the function arange, create an array of 10 integers 'd' from -20 to 25 (inclusive), in steps of 5.\n",
    "\n",
    "d = np.arange(start=-20, stop= 30, step=5)\n",
    "print(\"d:\", d)\n"
   ]
  },
  {
   "cell_type": "code",
   "execution_count": 47,
   "id": "dfa07d7d",
   "metadata": {},
   "outputs": [
    {
     "name": "stdout",
     "output_type": "stream",
     "text": [
      "d: [-200 -150 -100  -50    0   50  100  150  200  250]\n"
     ]
    }
   ],
   "source": [
    "#Multiply all values in d by 10, storing the result in d2.\n",
    "d2 = d * 10\n",
    "print(\"d:\", d2)\n",
    "\n",
    "\n",
    "\n",
    "\n",
    "\n"
   ]
  },
  {
   "cell_type": "code",
   "execution_count": 48,
   "id": "d3d46193",
   "metadata": {},
   "outputs": [
    {
     "name": "stdout",
     "output_type": "stream",
     "text": [
      "[-220 -165 -110  -55    0   55  110  165  220  275]\n"
     ]
    }
   ],
   "source": [
    "#Add the values stored in d and d2, element-wise, printing the result to the console\n",
    "d3 = d + d2\n",
    "print(d3)"
   ]
  },
  {
   "cell_type": "code",
   "execution_count": 37,
   "id": "59f49042",
   "metadata": {},
   "outputs": [],
   "source": [
    "#Reshape d2 into a 5x2 array, storing the result in d2.\n",
    "d2 = np.reshape(d2,(5,2))\n",
    "\n"
   ]
  },
  {
   "cell_type": "code",
   "execution_count": 38,
   "id": "cc0d2209",
   "metadata": {},
   "outputs": [
    {
     "name": "stdout",
     "output_type": "stream",
     "text": [
      "[1 2 3 4 5]\n"
     ]
    }
   ],
   "source": [
    "#Create an array d3, containing the integers 1,2,3,4,5.\n",
    "d3 = np.array([1,2,3,4,5])\n",
    "print(d3)"
   ]
  },
  {
   "cell_type": "code",
   "execution_count": 39,
   "id": "899043a7",
   "metadata": {},
   "outputs": [
    {
     "name": "stdout",
     "output_type": "stream",
     "text": [
      "[[-200 -150]\n",
      " [-200 -100]\n",
      " [   0  150]\n",
      " [ 400  600]\n",
      " [1000 1250]]\n"
     ]
    }
   ],
   "source": [
    "#Reshape d3 into the necessary shape such that d2*d3 succeeds (hint: broadcasting). Save the result of d2*d3 into d4, and print d4 toto the console.\n",
    "d3 = np.reshape(d3, (5,1))\n",
    "\n",
    "d4 = (d2 * d3)\n",
    "print(d4)"
   ]
  },
  {
   "cell_type": "code",
   "execution_count": 40,
   "id": "816fcad5",
   "metadata": {},
   "outputs": [
    {
     "name": "stdout",
     "output_type": "stream",
     "text": [
      "[[-200 -150]\n",
      " [   0  150]\n",
      " [1000 1250]]\n"
     ]
    }
   ],
   "source": [
    "#Print to the console the 1st, 3rd and 5th rows, both columns, of d4. \n",
    "print(d4[0:6:2,:])\n"
   ]
  },
  {
   "cell_type": "code",
   "execution_count": 41,
   "id": "64a5c1e7",
   "metadata": {},
   "outputs": [
    {
     "name": "stdout",
     "output_type": "stream",
     "text": [
      "1387409238320\n"
     ]
    }
   ],
   "source": [
    "#Print the object ID of d4 to the console.\n",
    "d5 = id(d4)\n",
    "print(d5)"
   ]
  },
  {
   "cell_type": "code",
   "execution_count": 42,
   "id": "3298cbfb",
   "metadata": {},
   "outputs": [],
   "source": [
    "#Resize (not reshape) d4 into a 2x5 array.\n",
    "d4.resize(2,5)"
   ]
  },
  {
   "cell_type": "code",
   "execution_count": 43,
   "id": "f739bb54",
   "metadata": {},
   "outputs": [
    {
     "name": "stdout",
     "output_type": "stream",
     "text": [
      "Fattened: [-200 -150 -200 -100    0  150  400  600 1000 1250]\n"
     ]
    }
   ],
   "source": [
    "#Flatten (not reshape) d4 back into a 10x1 array. Print the result to the console. Your output should match: [-200 -150 -200 -100 0 150 400 600 1000 1250]\n",
    "d4 = d4.flatten()\n",
    "print(\"Fattened:\", d4)"
   ]
  },
  {
   "cell_type": "code",
   "execution_count": null,
   "id": "b4db2d55",
   "metadata": {},
   "outputs": [],
   "source": []
  }
 ],
 "metadata": {
  "kernelspec": {
   "display_name": "Python 3.9.12 (tensorflow-gpu)",
   "language": "python",
   "name": "tensorflow-gpu"
  },
  "language_info": {
   "codemirror_mode": {
    "name": "ipython",
    "version": 3
   },
   "file_extension": ".py",
   "mimetype": "text/x-python",
   "name": "python",
   "nbconvert_exporter": "python",
   "pygments_lexer": "ipython3",
   "version": "3.9.12"
  }
 },
 "nbformat": 4,
 "nbformat_minor": 5
}
