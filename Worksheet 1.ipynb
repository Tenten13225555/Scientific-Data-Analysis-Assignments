{
 "cells": [
  {
   "cell_type": "code",
   "execution_count": 39,
   "id": "19187ef0",
   "metadata": {},
   "outputs": [
    {
     "name": "stdout",
     "output_type": "stream",
     "text": [
      "<class 'int'>\t<class 'int'>\t<class 'int'>\t<class 'int'>\t<class 'int'>\t<class 'str'>\t<class 'str'>\t\n",
      "[2, 4, 100, 6, 8, 'Monday', 'Tuesday', 'Wednesday', 'Thursday', 'Friday']\n",
      "Your favourite day of the week is: Friday\n",
      "[ 1.94  9.72 17.5  25.28 33.06]\n",
      "[[ 0.          3.88888889]\n",
      " [ 7.77777778 11.66666667]\n",
      " [15.55555556 19.44444444]\n",
      " [23.33333333 27.22222222]\n",
      " [31.11111111 35.        ]]\n"
     ]
    }
   ],
   "source": [
    "import numpy as np\n",
    "\n",
    "#Create a list 'd' containing the values: 2, 4, 6, 8, 'Monday', 'Tuesday'\n",
    "d = [2, 4, 6, 8, 'Monday', 'Tuesday']\n",
    "\n",
    "#Insert the value 100 between 4 and 6.\n",
    "d.insert(2, 100)\n",
    "\n",
    "#Iterate over 'd', printing the type of each variable to the console. Have a tab character printed after each element, rather than a newline.\n",
    "\n",
    "for x in d:\n",
    "    print(str(type(x)), end='\\t')\n",
    "\n",
    "#Create a new list 'd2' containing the values: 'Wednesday', Thursday', 'Friday'\n",
    "d2 = ['Wednesday', 'Thursday', 'Friday'];\n",
    "\n",
    "#Concatenate the two lists, storing the result in 'd'.\n",
    "d = d + d2;\n",
    "print()\n",
    "print(d)\n",
    "\n",
    "\n",
    "#Pop the last value off of 'd', and use it in a formatted string to say \"My favourite day of the week is XXX\", where XXX the popped value.\n",
    "print(\"Your favourite day of the week is: \" + str(d.pop()))\n",
    "      \n",
    "#Create a numpy array 'd', containing 10 linearly spaced values from 0 to 35.Reshape 'd' into a 5x2 array, storing the result in 'd'\n",
    "darray = np.linspace(start=0, stop=35, num=10).reshape(5,2);\n",
    "\n",
    "#Calculate mean of the values in each column of 'd', rounding to two decimal places, and print the results.\n",
    "m = darray.mean(axis = 1)\n",
    "\n",
    "m = np.round(m, 2)\n",
    "\n",
    "\n",
    "print(m)\n",
    "\n",
    "#Print these values in 'd: all rows, second column\n",
    "\n",
    "# second column\n",
    "darray[ :, 1]\n",
    "\n",
    "# all rows\n",
    "print(darray)\n",
    "\n"
   ]
  },
  {
   "cell_type": "code",
   "execution_count": null,
   "id": "d7cf87e5",
   "metadata": {},
   "outputs": [],
   "source": []
  },
  {
   "cell_type": "code",
   "execution_count": null,
   "id": "3d40c420",
   "metadata": {},
   "outputs": [],
   "source": []
  }
 ],
 "metadata": {
  "kernelspec": {
   "display_name": "Python 3 (ipykernel)",
   "language": "python",
   "name": "python3"
  },
  "language_info": {
   "codemirror_mode": {
    "name": "ipython",
    "version": 3
   },
   "file_extension": ".py",
   "mimetype": "text/x-python",
   "name": "python",
   "nbconvert_exporter": "python",
   "pygments_lexer": "ipython3",
   "version": "3.9.12"
  }
 },
 "nbformat": 4,
 "nbformat_minor": 5
}
